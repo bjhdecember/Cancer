{
 "cells": [
  {
   "cell_type": "code",
   "execution_count": 54,
   "metadata": {},
   "outputs": [
    {
     "data": {
      "text/html": [
       "<div>\n",
       "<style scoped>\n",
       "    .dataframe tbody tr th:only-of-type {\n",
       "        vertical-align: middle;\n",
       "    }\n",
       "\n",
       "    .dataframe tbody tr th {\n",
       "        vertical-align: top;\n",
       "    }\n",
       "\n",
       "    .dataframe thead th {\n",
       "        text-align: right;\n",
       "    }\n",
       "</style>\n",
       "<table border=\"1\" class=\"dataframe\">\n",
       "  <thead>\n",
       "    <tr style=\"text-align: right;\">\n",
       "      <th></th>\n",
       "      <th>STATE</th>\n",
       "      <th>ALL CASES</th>\n",
       "      <th>FEMALEBREAST</th>\n",
       "      <th>UTERINE CERVIX</th>\n",
       "      <th>COLON &amp; RECTUM</th>\n",
       "      <th>UTERINE CORPUS</th>\n",
       "      <th>LEUKEMIA</th>\n",
       "      <th>LUNG &amp; BRONCHUS</th>\n",
       "      <th>MELANOMA OF THE SKIN</th>\n",
       "      <th>NON-HODGKIN LYMPHOMA</th>\n",
       "      <th>PROSTATE</th>\n",
       "      <th>URINARY BLADDE</th>\n",
       "    </tr>\n",
       "  </thead>\n",
       "  <tbody>\n",
       "    <tr>\n",
       "      <th>0</th>\n",
       "      <td>Alabama</td>\n",
       "      <td>30210</td>\n",
       "      <td>4280</td>\n",
       "      <td>240</td>\n",
       "      <td>2510</td>\n",
       "      <td>800</td>\n",
       "      <td>780</td>\n",
       "      <td>4280</td>\n",
       "      <td>1480</td>\n",
       "      <td>1000</td>\n",
       "      <td>4650</td>\n",
       "      <td>1140</td>\n",
       "    </tr>\n",
       "    <tr>\n",
       "      <th>1</th>\n",
       "      <td>Alaska</td>\n",
       "      <td>3250</td>\n",
       "      <td>530</td>\n",
       "      <td>b</td>\n",
       "      <td>320</td>\n",
       "      <td>100</td>\n",
       "      <td>90</td>\n",
       "      <td>380</td>\n",
       "      <td>100</td>\n",
       "      <td>120</td>\n",
       "      <td>460</td>\n",
       "      <td>160</td>\n",
       "    </tr>\n",
       "    <tr>\n",
       "      <th>2</th>\n",
       "      <td>Arizona</td>\n",
       "      <td>39970</td>\n",
       "      <td>6110</td>\n",
       "      <td>290</td>\n",
       "      <td>3150</td>\n",
       "      <td>1320</td>\n",
       "      <td>1090</td>\n",
       "      <td>4610</td>\n",
       "      <td>3110</td>\n",
       "      <td>1680</td>\n",
       "      <td>4940</td>\n",
       "      <td>1900</td>\n",
       "    </tr>\n",
       "    <tr>\n",
       "      <th>3</th>\n",
       "      <td>Arkansas</td>\n",
       "      <td>18610</td>\n",
       "      <td>2440</td>\n",
       "      <td>160</td>\n",
       "      <td>1530</td>\n",
       "      <td>570</td>\n",
       "      <td>520</td>\n",
       "      <td>2820</td>\n",
       "      <td>900</td>\n",
       "      <td>690</td>\n",
       "      <td>2510</td>\n",
       "      <td>710</td>\n",
       "    </tr>\n",
       "    <tr>\n",
       "      <th>4</th>\n",
       "      <td>California</td>\n",
       "      <td>189220</td>\n",
       "      <td>31720</td>\n",
       "      <td>1640</td>\n",
       "      <td>15970</td>\n",
       "      <td>7110</td>\n",
       "      <td>5630</td>\n",
       "      <td>17450</td>\n",
       "      <td>10260</td>\n",
       "      <td>8500</td>\n",
       "      <td>26890</td>\n",
       "      <td>7620</td>\n",
       "    </tr>\n",
       "  </tbody>\n",
       "</table>\n",
       "</div>"
      ],
      "text/plain": [
       "        STATE  ALL CASES  FEMALEBREAST UTERINE CERVIX  COLON & RECTUM  \\\n",
       "0     Alabama      30210          4280            240            2510   \n",
       "1      Alaska       3250           530             b              320   \n",
       "2     Arizona      39970          6110            290            3150   \n",
       "3    Arkansas      18610          2440            160            1530   \n",
       "4  California     189220         31720           1640           15970   \n",
       "\n",
       "   UTERINE CORPUS  LEUKEMIA  LUNG & BRONCHUS  MELANOMA OF THE SKIN  \\\n",
       "0             800       780             4280                  1480   \n",
       "1             100        90              380                   100   \n",
       "2            1320      1090             4610                  3110   \n",
       "3             570       520             2820                   900   \n",
       "4            7110      5630            17450                 10260   \n",
       "\n",
       "   NON-HODGKIN LYMPHOMA  PROSTATE  URINARY BLADDE  \n",
       "0                  1000      4650            1140  \n",
       "1                   120       460             160  \n",
       "2                  1680      4940            1900  \n",
       "3                   690      2510             710  \n",
       "4                  8500     26890            7620  "
      ]
     },
     "execution_count": 54,
     "metadata": {},
     "output_type": "execute_result"
    }
   ],
   "source": [
    "import pandas as pd\n",
    "import matplotlib as plt\n",
    "import matplotlib as mpl\n",
    "import numpy as py\n",
    "#df = pd.read_csv(r'C:\\Users\\barba\\OneDrive\\Documents\\Cancer.csv')\n",
    "\n",
    "#print(df)\n",
    "\n",
    "df = pd.read_excel(r'C:\\Users\\barba\\OneDrive\\Documents\\Breast_Cancer\\Data\\Cancer_Data.xlsx')\n",
    "\n",
    "#print(df)\n",
    "\n",
    "df.head()"
   ]
  },
  {
   "cell_type": "code",
   "execution_count": 4,
   "metadata": {},
   "outputs": [
    {
     "ename": "NameError",
     "evalue": "name 'df' is not defined",
     "output_type": "error",
     "traceback": [
      "\u001b[1;31m---------------------------------------------------------------------------\u001b[0m",
      "\u001b[1;31mNameError\u001b[0m                                 Traceback (most recent call last)",
      "Cell \u001b[1;32mIn [4], line 1\u001b[0m\n\u001b[1;32m----> 1\u001b[0m df\u001b[39m.\u001b[39mshape\n",
      "\u001b[1;31mNameError\u001b[0m: name 'df' is not defined"
     ]
    }
   ],
   "source": [
    "df.shape"
   ]
  },
  {
   "cell_type": "code",
   "execution_count": 1,
   "metadata": {},
   "outputs": [
    {
     "ename": "NameError",
     "evalue": "name 'df' is not defined",
     "output_type": "error",
     "traceback": [
      "\u001b[1;31m---------------------------------------------------------------------------\u001b[0m",
      "\u001b[1;31mNameError\u001b[0m                                 Traceback (most recent call last)",
      "Cell \u001b[1;32mIn [1], line 1\u001b[0m\n\u001b[1;32m----> 1\u001b[0m df\u001b[39m.\u001b[39misnull()\n",
      "\u001b[1;31mNameError\u001b[0m: name 'df' is not defined"
     ]
    }
   ],
   "source": [
    "df.isnull()"
   ]
  },
  {
   "cell_type": "code",
   "execution_count": 57,
   "metadata": {},
   "outputs": [
    {
     "data": {
      "text/plain": [
       "STATE                   0\n",
       "ALL CASES               0\n",
       "FEMALEBREAST            0\n",
       "UTERINE CERVIX          0\n",
       "COLON & RECTUM          0\n",
       "UTERINE CORPUS          0\n",
       "LEUKEMIA                0\n",
       "LUNG & BRONCHUS         0\n",
       "MELANOMA OF THE SKIN    0\n",
       "NON-HODGKIN LYMPHOMA    0\n",
       "PROSTATE                0\n",
       "URINARY BLADDE          0\n",
       "dtype: int64"
      ]
     },
     "execution_count": 57,
     "metadata": {},
     "output_type": "execute_result"
    }
   ],
   "source": [
    "df.isnull().sum()"
   ]
  },
  {
   "cell_type": "code",
   "execution_count": 2,
   "metadata": {},
   "outputs": [
    {
     "ename": "NameError",
     "evalue": "name 'df' is not defined",
     "output_type": "error",
     "traceback": [
      "\u001b[1;31m---------------------------------------------------------------------------\u001b[0m",
      "\u001b[1;31mNameError\u001b[0m                                 Traceback (most recent call last)",
      "Cell \u001b[1;32mIn [2], line 1\u001b[0m\n\u001b[1;32m----> 1\u001b[0m df\u001b[39m.\u001b[39misnull()\u001b[39m.\u001b[39msum()\u001b[39m.\u001b[39msum()\n",
      "\u001b[1;31mNameError\u001b[0m: name 'df' is not defined"
     ]
    }
   ],
   "source": [
    "df.isnull().sum().sum()"
   ]
  },
  {
   "cell_type": "code",
   "execution_count": 3,
   "metadata": {},
   "outputs": [
    {
     "ename": "NameError",
     "evalue": "name 'df' is not defined",
     "output_type": "error",
     "traceback": [
      "\u001b[1;31m---------------------------------------------------------------------------\u001b[0m",
      "\u001b[1;31mNameError\u001b[0m                                 Traceback (most recent call last)",
      "Cell \u001b[1;32mIn [3], line 1\u001b[0m\n\u001b[1;32m----> 1\u001b[0m df2 \u001b[39m=\u001b[39m df\u001b[39m.\u001b[39mreplace(to_replace\u001b[39m=\u001b[39m\u001b[39m'\u001b[39m\u001b[39mb \u001b[39m\u001b[39m'\u001b[39m, value\u001b[39m=\u001b[39m\u001b[39m0.0\u001b[39m)\n\u001b[0;32m      2\u001b[0m df2\n",
      "\u001b[1;31mNameError\u001b[0m: name 'df' is not defined"
     ]
    }
   ],
   "source": [
    "df2 = df.replace(to_replace='b ', value=0.0)\n",
    "df2\n"
   ]
  }
 ],
 "metadata": {
  "kernelspec": {
   "display_name": "Python 3.10.6 64-bit",
   "language": "python",
   "name": "python3"
  },
  "language_info": {
   "codemirror_mode": {
    "name": "ipython",
    "version": 3
   },
   "file_extension": ".py",
   "mimetype": "text/x-python",
   "name": "python",
   "nbconvert_exporter": "python",
   "pygments_lexer": "ipython3",
   "version": "3.10.6"
  },
  "orig_nbformat": 4,
  "vscode": {
   "interpreter": {
    "hash": "46f1d8de715bd2a384d83ddf9b28716022e9e87bb275e90e0cce2c7e4e34a8b4"
   }
  }
 },
 "nbformat": 4,
 "nbformat_minor": 2
}
